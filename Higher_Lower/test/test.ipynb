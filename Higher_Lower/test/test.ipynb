{
 "cells": [
  {
   "cell_type": "code",
   "execution_count": null,
   "metadata": {},
   "outputs": [],
   "source": [
    "#P = ((a + b) * h) / 2"
   ]
  },
  {
   "cell_type": "code",
   "execution_count": 18,
   "metadata": {},
   "outputs": [],
   "source": [
    "def pole_trapezu(podstawa_a,podstawa_b,wysokosc):\n",
    "    \"\"\"Oblicza pole trapezu na podstawie długości podstaw oraz wysokości.\n",
    "    Zwraca wynik w postaci liczby całkowitej\"\"\"\n",
    "    pole = ((podstawa_a + podstawa_b) * wysokosc) / 2\n",
    "    pole = int(pole)\n",
    "    return pole"
   ]
  },
  {
   "cell_type": "code",
   "execution_count": 19,
   "metadata": {},
   "outputs": [],
   "source": [
    "def srednia_predkosc(odleglosc, czas):\n",
    "    \"\"\"Oblicza średnią prędkość na podstawie odległości i czasu.\n",
    "    Zwraca wynik w postaci liczby całkowitej.\"\"\"\n",
    "    predkosc = odleglosc / czas\n",
    "    predkosc = int(predkosc)\n",
    "    return predkosc"
   ]
  }
 ],
 "metadata": {
  "kernelspec": {
   "display_name": "Python 3",
   "language": "python",
   "name": "python3"
  },
  "language_info": {
   "codemirror_mode": {
    "name": "ipython",
    "version": 3
   },
   "file_extension": ".py",
   "mimetype": "text/x-python",
   "name": "python",
   "nbconvert_exporter": "python",
   "pygments_lexer": "ipython3",
   "version": "3.10.11"
  },
  "orig_nbformat": 4,
  "vscode": {
   "interpreter": {
    "hash": "471dd54ba4913416de6946c3ba64fa86417e9a44f556754385b58dd7c1b39410"
   }
  }
 },
 "nbformat": 4,
 "nbformat_minor": 2
}
